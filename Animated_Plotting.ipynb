{
 "cells": [
  {
   "cell_type": "code",
   "execution_count": 1,
   "metadata": {},
   "outputs": [],
   "source": [
    "import numpy as np\n",
    "\n",
    "def rect(x, B):\n",
    "#     this funtion\n",
    "    B =int(B)\n",
    "    x = int(x)\n",
    "    \n",
    "    high = np.ones(B)\n",
    "    low1 = np.seros(int(x/2 - B/2))\n",
    "    x1 = np.append(low1, high)\n",
    "    rect = np.append(x1, low1)\n",
    "    \n",
    "    if x > len(rect):\n",
    "        rect = np.append(rect, 0)\n",
    "    elif x < len(rect):\n",
    "        rect = rect[:-1]\n",
    "    return rect"
   ]
  },
  {
   "cell_type": "code",
   "execution_count": null,
   "metadata": {},
   "outputs": [],
   "source": [
    "%matplotlib notebook\n",
    "import matplotlib.pyplot as pt\n",
    "from matplotlib.animation import FuncAnimation\n",
    "\n",
    "#Constants and x array\n",
    "pi = np.pi\n",
    "length = 2000\n",
    "x = np.linspace(-1, 1, length)\n",
    "\n",
    "fig (ax1, ax2) = plt.subplots(2, figsize=(12, 6))\n",
    "sinc, = ax1.plot(x, np.sin(x), '-b')\n",
    "box, = ax2.plot(x, np.sin(x), '-r')\n",
    "\n",
    "def animate(B):\n",
    "    \n",
    "#     this function gets called by functionAnimation\n",
    "#     each time called, it will plot with a different width\"B\"\n",
    "    \n",
    "#     b: rect width \n",
    "#         return \n",
    "#     sinc: ydata\n",
    "#     box: ydata\n",
    "\n",
    "    f = rect(len(x), B)\n",
    "    box.set_ydata(f)\n",
    "    \n",
    "    F = (B/length) * np.sin(x * B/2) / (x * B/2)\n",
    "    sinc.set_ydata(F)\n",
    "    \n",
    "def \n",
    "    \n",
    "    \n"
   ]
  }
 ],
 "metadata": {
  "kernelspec": {
   "display_name": "Python 2",
   "language": "python",
   "name": "python2"
  },
  "language_info": {
   "codemirror_mode": {
    "name": "ipython",
    "version": 2
   },
   "file_extension": ".py",
   "mimetype": "text/x-python",
   "name": "python",
   "nbconvert_exporter": "python",
   "pygments_lexer": "ipython2",
   "version": "2.7.12"
  }
 },
 "nbformat": 4,
 "nbformat_minor": 2
}
